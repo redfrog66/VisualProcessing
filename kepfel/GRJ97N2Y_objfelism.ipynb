{
 "cells": [
  {
   "cell_type": "markdown",
   "id": "0aa055bc",
   "metadata": {},
   "source": [
    "# Objektumfelismerés OpenCV & TensorFlow segítségével"
   ]
  },
  {
   "cell_type": "markdown",
   "id": "8bcaaf93",
   "metadata": {},
   "source": [
    "Készítette: Gellén Rebeka, J97N2Y, 2022/11/_"
   ]
  },
  {
   "cell_type": "markdown",
   "id": "e941549d",
   "metadata": {},
   "source": [
    "#### A TensorFlow-ról"
   ]
  },
  {
   "cell_type": "markdown",
   "id": "5d06e4c6",
   "metadata": {},
   "source": [
    "A TensorFlow megkönnyíti a modellek betanítását, alkalmazását. Szövegfeldolgozás órán ismerkedtem meg vele, ott szöveggenerálás folyamán használtuk. Kíváncsi voltam, képfeldolgozás során mennyire használható."
   ]
  },
  {
   "cell_type": "markdown",
   "id": "a202dc63",
   "metadata": {},
   "source": [
    "TFLite formátumú modellel fogunk dolgozni, ugyanis ez méretben kisebb és jobb teljesítményű, mint a nagyobb modellek."
   ]
  },
  {
   "cell_type": "markdown",
   "id": "b4fa4571",
   "metadata": {},
   "source": [
    "Felhasznált modell: https://tfhub.dev/tensorflow/efficientdet/lite2/detection/1"
   ]
  },
  {
   "cell_type": "markdown",
   "id": "39440e8b",
   "metadata": {},
   "source": [
    "Ez a modell képes: \n",
    "\n",
    "1. Bekeretezni a detektált elemet.\n",
    "2. Megadja, mennyi az esélye egy adott osztálynak\n",
    "3. Felismeri az osztályt\n",
    "4. Megadja a detektálások számát"
   ]
  },
  {
   "cell_type": "markdown",
   "id": "e6f56402",
   "metadata": {},
   "source": [
    "!! Ahhoz, hogy az opencv, tensorflow, python és a felhasznált modellünk működni tudjon, elég sok mindent kell telepíteni és összekötni, így nem érdemes csak úgy nekiugrani, mert nem két perc munka. !!"
   ]
  },
  {
   "cell_type": "code",
   "execution_count": 1,
   "id": "29136961",
   "metadata": {},
   "outputs": [],
   "source": [
    "#!pip install tensorflow"
   ]
  },
  {
   "cell_type": "code",
   "execution_count": 2,
   "id": "793a273d",
   "metadata": {},
   "outputs": [],
   "source": [
    "#!pip install tensorflow_hub"
   ]
  },
  {
   "cell_type": "code",
   "execution_count": 3,
   "id": "30e4d869",
   "metadata": {},
   "outputs": [],
   "source": [
    "#!pip install opencv-python"
   ]
  },
  {
   "cell_type": "code",
   "execution_count": 4,
   "id": "6c2abc30",
   "metadata": {},
   "outputs": [],
   "source": [
    "#!pip install numpy"
   ]
  },
  {
   "cell_type": "code",
   "execution_count": 5,
   "id": "5bf3b86e",
   "metadata": {},
   "outputs": [],
   "source": [
    "#!pip install pandas"
   ]
  },
  {
   "cell_type": "code",
   "execution_count": 6,
   "id": "7cbaf1ed",
   "metadata": {},
   "outputs": [],
   "source": [
    "#!pip install matplotlib"
   ]
  },
  {
   "cell_type": "markdown",
   "id": "679cba77",
   "metadata": {},
   "source": [
    "## Objektumfelismerés állóképen"
   ]
  },
  {
   "cell_type": "markdown",
   "id": "916943d4",
   "metadata": {},
   "source": [
    "Első lépésben betöltjük a modellt és a beolvasott képet fogjuk olyanra formázni, hogy a tensorflow dolgozni tudjon vele."
   ]
  },
  {
   "cell_type": "code",
   "execution_count": 7,
   "id": "2c96fdd1",
   "metadata": {},
   "outputs": [],
   "source": [
    "import tensorflow_hub as hub\n",
    "import cv2\n",
    "import numpy\n",
    "import pandas as pd\n",
    "import tensorflow as tf\n",
    "import matplotlib.pyplot as plt"
   ]
  },
  {
   "cell_type": "code",
   "execution_count": null,
   "id": "6db27070",
   "metadata": {},
   "outputs": [],
   "source": [
    "# A modelt direkt a weboldalról töltjük be, de le is lehet tölteni a számítógépre\n",
    "detector = hub.load(\"https://tfhub.dev/tensorflow/efficientdet/lite2/detection/1\")"
   ]
  },
  {
   "cell_type": "code",
   "execution_count": null,
   "id": "1ef7d220",
   "metadata": {},
   "outputs": [],
   "source": [
    "width = 1028\n",
    "height = 1028\n",
    "\n",
    "#beolvassuk a képet\n",
    "img = cv2.imread('aaaa.jpg')\n",
    "#méretezzük\n",
    "inp = cv2.resize(img, (width , height ))\n",
    "\n",
    "#RGB-be konvertáljuk a képet\n",
    "rgb = cv2.cvtColor(inp, cv2.COLOR_BGR2RGB)\n",
    "\n",
    "#uint8-ba konvertálunk\n",
    "rgb_tensor = tf.convert_to_tensor(rgb, dtype=tf.uint8)\n",
    "\n",
    "#az rgb_tensor dimenzióit kibővítjük\n",
    "rgb_tensor = tf.expand_dims(rgb_tensor , 0)"
   ]
  },
  {
   "cell_type": "code",
   "execution_count": null,
   "id": "1c08f9ef",
   "metadata": {},
   "outputs": [],
   "source": [
    "plt.figure(figsize=(10,10))\n",
    "plt.imshow(rgb)"
   ]
  },
  {
   "cell_type": "markdown",
   "id": "f8c9ad77",
   "metadata": {},
   "source": [
    "Importáljuk a címkéket"
   ]
  },
  {
   "cell_type": "code",
   "execution_count": null,
   "id": "7dbc4235",
   "metadata": {},
   "outputs": [],
   "source": [
    "boxes, scores, classes, num_detections = detector(rgb_tensor)"
   ]
  },
  {
   "cell_type": "code",
   "execution_count": null,
   "id": "95bb3d21",
   "metadata": {},
   "outputs": [],
   "source": [
    "# Címkék és osztályok betöltése\n",
    "labels = pd.read_csv('labels.csv',sep=';',index_col='ID')\n",
    "labels = labels['OBJECT (2017 REL.)']"
   ]
  },
  {
   "cell_type": "code",
   "execution_count": null,
   "id": "7241669d",
   "metadata": {},
   "outputs": [],
   "source": [
    "labels.head()"
   ]
  },
  {
   "cell_type": "markdown",
   "id": "f78e6f92",
   "metadata": {},
   "source": [
    "Prediktálás"
   ]
  },
  {
   "cell_type": "code",
   "execution_count": null,
   "id": "e0368ca5",
   "metadata": {},
   "outputs": [],
   "source": [
    "# Prediktálás\n",
    "pred_labels = classes.numpy().astype('int')[0] \n",
    "pred_labels = [labels[i] for i in pred_labels]\n",
    "pred_boxes = boxes.numpy()[0].astype('int')\n",
    "pred_scores = scores.numpy()[0]"
   ]
  },
  {
   "cell_type": "code",
   "execution_count": null,
   "id": "9d203412",
   "metadata": {},
   "outputs": [],
   "source": [
    "# Keretezés és címkézés a képen\n",
    "for score, (ymin,xmin,ymax,xmax), label in zip(pred_scores, pred_boxes, pred_labels):\n",
    "        if score < 0.5:\n",
    "            continue\n",
    "            \n",
    "        score_txt = f'{100 * round(score)}%'\n",
    "        img_boxes = cv2.rectangle(rgb,(xmin, ymax),(xmax, ymin),(0,255,0),2)      \n",
    "        font = cv2.FONT_HERSHEY_SIMPLEX\n",
    "        cv2.putText(img_boxes, label,(xmin, ymax-10), font, 1.5, (255,0,0), 2, cv2.LINE_AA)\n",
    "        cv2.putText(img_boxes,score_txt,(xmax, ymax-10), font, 1.5, (255,0,0), 2, cv2.LINE_AA)"
   ]
  },
  {
   "cell_type": "code",
   "execution_count": null,
   "id": "6a224db3",
   "metadata": {},
   "outputs": [],
   "source": [
    "plt.figure(figsize=(10,10))\n",
    "plt.imshow(img_boxes)"
   ]
  },
  {
   "cell_type": "code",
   "execution_count": null,
   "id": "7574b5a7",
   "metadata": {},
   "outputs": [],
   "source": []
  }
 ],
 "metadata": {
  "kernelspec": {
   "display_name": "Python 3 (ipykernel)",
   "language": "python",
   "name": "python3"
  },
  "language_info": {
   "codemirror_mode": {
    "name": "ipython",
    "version": 3
   },
   "file_extension": ".py",
   "mimetype": "text/x-python",
   "name": "python",
   "nbconvert_exporter": "python",
   "pygments_lexer": "ipython3",
   "version": "3.9.12"
  }
 },
 "nbformat": 4,
 "nbformat_minor": 5
}
